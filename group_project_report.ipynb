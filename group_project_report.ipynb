{
 "cells": [
  {
   "cell_type": "markdown",
   "id": "e27375f8-6905-4184-9c9d-075408fb1006",
   "metadata": {
    "tags": []
   },
   "source": [
    "# DSCI 100 Group Project Report: The relationship between various socioeconomic factors and life expectancy at birth\n",
    "##### Group 141: Matilde Galantino, Jacob Guglielmin, Phoenix Jin, Amy Wong "
   ]
  },
  {
   "cell_type": "markdown",
   "id": "01a82c78-b730-4beb-bb55-8d0cc21d6134",
   "metadata": {
    "tags": []
   },
   "source": [
    "## Introduction\n",
    "### Background "
   ]
  },
  {
   "cell_type": "markdown",
   "id": "372cb310-ac56-4576-a78f-84112583a410",
   "metadata": {},
   "source": [
    "Life expectancy, a measurement of the mean age of death in a population, is a crucial metric in assessing the wellbeing of populations, and as such, is of pertinence in both medical and socioeconomic research. Life expectancy has risen drastically in industrialized countries since the 19th century due to improvements in technology and healthcare, from 66.8 years in 2000 to 73.4 years in 2019 (World Health Organization, 2019). However, this increase is not truly equal - countries with lower human development have consistently reported lower life expectancies, leading to a large discrepancy in health worldwide (Roser et al., 2013). It is therefore important to determine what impedes or enhances the life expectancy of a population in order to improve societal conditions around the world."
   ]
  },
  {
   "cell_type": "markdown",
   "id": "b8967f9a-a23b-48b0-94cf-c90968e624d0",
   "metadata": {},
   "source": [
    "### Question \n",
    "\n",
    "How do CO<sub>2</sub> emissions per capita, mean years of schooling, gross national income, and poverty rate affect life expectancy for both less developed and more developed countries, and how can less developed countries use this information to increase their life expectancy?"
   ]
  },
  {
   "cell_type": "markdown",
   "id": "758d28a1-ccd6-4ce7-b8b4-76e766770aa4",
   "metadata": {},
   "source": [
    "### Dataset \n",
    "\n",
    "We will use two datasets from the United Nations Development Programme and the World Bank; the one from the United Nations Development Programme contains data on CO<sub>2</sub> emissions per capita, mean years of schooling, gross national income, and life expectancy at birth by country and year, and the dataset from the World Bank contains data on poverty rate by country and year."
   ]
  },
  {
   "cell_type": "markdown",
   "id": "7d9bdbbe-0052-408f-8873-dce4aa07ce11",
   "metadata": {},
   "source": [
    "## Expected outcomes: \n",
    "We expect to find relationships between all four of our selected socioeconomic factors and life expectancy at birth. \n",
    "\n",
    "1. CO<sub>2</sub> concentrations have increased in the atmosphere over time due to human activity. Several decades of research have indicated that rising air pollution threatens local ecosystems and human health (Balakrishnan et al., 2018). As such, we expect to find a negative relationship between CO<sub>2</sub> emissions and life expectancy.\n",
    "\n",
    "2. Education has an important role in shaping society, and so will be investigated for contributions to life expectancy. Past research has indicated that higher levels of schooling lead to higher life expectancies due to more informed decisions and healthier lifestyles (Blackburn and Cipriani, 2002). Therefore, we expect to see a positive relationship between mean years of schooling and life expectancy.\n",
    "\n",
    "3. The gross national income represents the total financial output of a country. At a national level, a higher GNI allows more spending for public systems such as improved healthcare and sanitation. Therefore, we expect a positive relationship between GNI and life expectancy. \n",
    "\n",
    "4. Lastly, the poverty rate represents the percentage of the country's population who has less than $6.85 to spend per day, in 2017 PPP dollars. Financial poverty very often leads to social effects such as poor living conditions and limited access to housing or healthcare. We expect a negative relationship between poverty ratio and life expectancy at birth.\n"
   ]
  },
  {
   "cell_type": "markdown",
   "id": "d29c0118-35de-4bf5-b8d8-89a898610ed3",
   "metadata": {
    "tags": []
   },
   "source": [
    "## Methods: \n",
    "1. We will combine the two datasets that we selected. \n",
    "\n",
    "2. We will use the columns for the four variables as predictors, which are carbon dioxide emissions per capita, mean years of schooling, gross national income per capita, poverty rate, to predict life expectancy at birth\n",
    "\n",
    "3. We will combine countries with 'Very High' and 'High' human development indices into a 'More Developed' category, and combine countries with 'Medium' and 'Low' indices into a 'Less Developed' category.\n",
    "\n",
    "4. We will perform a multivariable regression with our four factors in order to predict life expectancy at birth.\n",
    "\n",
    "5. We will use four scatterplots to visualize our results for each of our factors with their regression lines overlaid on their respective plots. We will also create a table displaying the RMSPE of each of our regressions, to compare the predictive power of each more easily."
   ]
  },
  {
   "cell_type": "markdown",
   "id": "7a34ebc6-ac88-406e-8ab9-1e624af0c770",
   "metadata": {
    "tags": []
   },
   "source": [
    "##### **Run the following cell before continuing further - set** `need_install = TRUE` **if any of tidyverse, tidymodels, or cowplot are not installed on your system:**"
   ]
  },
  {
   "cell_type": "code",
   "execution_count": null,
   "id": "9e8fa28a-27ef-4770-9cd1-3f8f7c0551b7",
   "metadata": {},
   "outputs": [],
   "source": [
    "need_install = FALSE\n",
    "\n",
    "if (need_install) install.packages(c(\"tidyverse\", \"tidymodels\", \"cowplot\"))\n",
    "\n",
    "# Import libraries\n",
    "library(tidyverse)\n",
    "library(tidymodels)\n",
    "library(cowplot)\n",
    "options(repr.matrix.max.rows = 6)"
   ]
  },
  {
   "cell_type": "markdown",
   "id": "c40aeda7-9a83-4bee-8982-5b042fc0863f",
   "metadata": {
    "tags": []
   },
   "source": [
    "### Read datasets from the web:\n",
    "\n",
    "##### We are reading these data from GitHub, as we downloaded the data manually and uploaded the data we require since much of the data came packaged in a .zip file rather than available as a raw .csv. In addition, we can ensure that these links remain available, unlike the links of the original publishers."
   ]
  },
  {
   "cell_type": "code",
   "execution_count": null,
   "id": "3547523c-8500-427b-b82a-2a0f918b0bd9",
   "metadata": {
    "scrolled": true,
    "tags": []
   },
   "outputs": [],
   "source": [
    "# Download data - (data orginally from United Nations Development Programme)\n",
    "hdi_composite_data_raw <- read_csv(\"https://raw.githubusercontent.com/phoenixjin8/dsci100-group-project/main/data/hdr_composite_index.csv\", show_col_types = FALSE)\n",
    "\n",
    "#Print the table number and data source \n",
    "comment(hdi_composite_data_raw)<-\"Table 1: Data from United Nations Development Programme\"\n",
    "\n",
    "comment(hdi_composite_data_raw)\n",
    "hdi_composite_data_raw "
   ]
  },
  {
   "cell_type": "code",
   "execution_count": null,
   "id": "7c5dce8b-17ee-4f3a-afd1-e24f4c581b5b",
   "metadata": {},
   "outputs": [],
   "source": [
    "# Download data - (data orginally from World Bank) \n",
    "poverty_rate_data_raw <- read_csv(\"https://raw.githubusercontent.com/phoenixjin8/dsci100-group-project/main/data/poverty_rate.csv\", skip = 4, show_col_types = FALSE)\n",
    "\n",
    "#Print the table number and data source \n",
    "comment(poverty_rate_data_raw) <- \"Table 2: Data from World Bank\"\n",
    "\n",
    "comment(poverty_rate_data_raw)\n",
    "poverty_rate_data_raw"
   ]
  },
  {
   "cell_type": "markdown",
   "id": "8ffd0c1d-3a1c-4a2c-8697-6d8d5507d568",
   "metadata": {
    "tags": []
   },
   "source": [
    "### Clean and wrangle data into a tidy format:"
   ]
  },
  {
   "cell_type": "code",
   "execution_count": null,
   "id": "0c8d841a-fe7f-4625-b329-be9817ff0709",
   "metadata": {},
   "outputs": [],
   "source": [
    "# Tidy poverty rate data\n",
    "poverty_rate_data <- poverty_rate_data_raw\n",
    "poverty_rate_data <- poverty_rate_data |>\n",
    "    select(-country_name, -indicator_name, -indicator_code, -development) |>\n",
    "    pivot_longer(c(-country_code), names_to = \"year\", values_to = \"poverty_rate\") |>\n",
    "    filter(!is.na(poverty_rate))\n",
    "\n",
    "# Tidy HDI data\n",
    "# Eliminate irrelevant columns\n",
    "hdi_composite_data_relevant <- hdi_composite_data_raw |>\n",
    "    select(-country, -hdicode, -region, -hdi_rank_2021)\n",
    "# We will write to a new dataframe rather than edit the existing one since the raw data is horrific to work with\n",
    "# Extract CO2 emissions data and country codes\n",
    "hdi_composite_data <- hdi_composite_data_relevant |>\n",
    "    select(iso3, co2_prod_1990:co2_prod_2021) |>\n",
    "    # Remove all information from column name except the year (change each column name to the last 4 characters of itself, ignore \"iso3\")\n",
    "    rename_with(function(x){ifelse(x == \"iso3\", \"iso3\", substring(x, nchar(x) - 3))}) |>\n",
    "    pivot_longer(-iso3, names_to = \"year\", values_to = \"co2_per_capita\")\n",
    "# Extract mean years of schooling data\n",
    "hdi_composite_data <- merge(hdi_composite_data,\n",
    "                            (hdi_composite_data_relevant |>\n",
    "                             select(iso3, mys_1990:mys_2021) |>\n",
    "                             rename_with(function(x){ifelse(x == \"iso3\", \"iso3\", substring(x, nchar(x) - 3))}) |>\n",
    "                             pivot_longer(-iso3, names_to = \"year\", values_to = \"mean_schooling\")))\n",
    "# Extract GNI per capita data\n",
    "hdi_composite_data <- merge(hdi_composite_data,\n",
    "                            (hdi_composite_data_relevant |>\n",
    "                             select(iso3, gnipc_1990:gnipc_2021) |>\n",
    "                             rename_with(function(x){ifelse(x == \"iso3\", \"iso3\", substring(x, nchar(x) - 3))}) |>\n",
    "                             pivot_longer(-iso3, names_to = \"year\", values_to = \"gni_per_capita\")))\n",
    "# Extract life expectancy data\n",
    "hdi_composite_data <- merge(hdi_composite_data,\n",
    "                            (hdi_composite_data_relevant |>\n",
    "                             select(iso3, le_1990:le_2021) |>\n",
    "                             rename_with(function(x){ifelse(x == \"iso3\", \"iso3\", substring(x, nchar(x) - 3))}) |>\n",
    "                             pivot_longer(-iso3, names_to = \"year\", values_to = \"life_expectancy\")))\n",
    "\n",
    "# Merge HDI data with poverty rate data and convert year to a number\n",
    "tidy_data <- merge(poverty_rate_data, hdi_composite_data, by.x = c(\"country_code\", \"year\"), by.y = c(\"iso3\", \"year\"), all = TRUE) |>\n",
    "    mutate(year = as.numeric(year))\n",
    "\n",
    "# Add development rating\n",
    "tidy_data <- left_join(tidy_data, select(poverty_rate_data_raw, country_code, development), by = \"country_code\")    \n",
    "\n",
    "# Consolidate Low and Medium development into \"Less Developed\", High and Very High into \"More Developed\"\n",
    "tidy_data <- filter(tidy_data, !is.na(development)) |>\n",
    "    mutate(development = ifelse(development == \"Low\" | development == \"Medium\", \"Less Developed\", \"More Developed\")) |>\n",
    "    mutate(development = as.factor(development))\n",
    "\n",
    "# Transform the data so that we can use a linear regression\n",
    "tidy_data <- tidy_data |>\n",
    "    mutate(log_co2_per_capita = log(co2_per_capita)) |>\n",
    "    mutate(log_gni_per_capita = log(gni_per_capita))\n",
    "\n",
    "# Reorder the columns to make sense\n",
    "tidy_data <- tidy_data[,c(\"country_code\", \"development\", \"year\", \"life_expectancy\", \"gni_per_capita\", \"log_gni_per_capita\", \"poverty_rate\", \"mean_schooling\", \"co2_per_capita\", \"log_co2_per_capita\")] |>\n",
    "    \n",
    "# Remove the 4 data points that are WAY out the bottom of the life expectancy chart - these appear to be\n",
    "# substantial departures from normal for their countries (Rwanda and South Sudan) and are directly between\n",
    "# much higher values, so we are assuming these to be data collection errors\n",
    "    filter(life_expectancy > 25) |>\n",
    "\n",
    "# Remove every row with no life expectancy value, since everything is based on those values\n",
    "    filter(!is.na(life_expectancy))\n",
    "\n",
    "# Reorder the development category so that legends are in a reasonable order\n",
    "tidy_data$development <- factor(tidy_data$development, levels = c(\"More Developed\", \"Less Developed\"))\n",
    "\n",
    "#Print table number and data name \n",
    "comment(tidy_data) <- \"Table 3: Tidy Data\"\n",
    "\n",
    "comment(tidy_data)\n",
    "tidy_data"
   ]
  },
  {
   "cell_type": "markdown",
   "id": "4b71ecfc-b545-4684-bc14-be24f7d0d2a7",
   "metadata": {
    "tags": []
   },
   "source": [
    "### Split data to produce training/testing data:"
   ]
  },
  {
   "cell_type": "code",
   "execution_count": null,
   "id": "6013b1a8-45a3-44f9-91c9-39d2e82f52e2",
   "metadata": {},
   "outputs": [],
   "source": [
    "set.seed(141)\n",
    "\n",
    "# Split data into training and testing groups, stratified by life expectancy\n",
    "data_split <- initial_split(tidy_data, prop = 0.75, strata = life_expectancy)\n",
    "training_data <- training(data_split)\n",
    "testing_data <- testing(data_split)"
   ]
  },
  {
   "cell_type": "markdown",
   "id": "cec9edc5-4f5a-460e-a2c3-4f05c66456bb",
   "metadata": {
    "tags": []
   },
   "source": [
    "## Exploratory data analysis\n",
    "\n",
    "#### Create visualizations for the data:"
   ]
  },
  {
   "cell_type": "code",
   "execution_count": null,
   "id": "f44f89eb-a051-43dd-a823-bf7cda306d7b",
   "metadata": {},
   "outputs": [],
   "source": [
    "# Select the columns that contain data we plan to model\n",
    "data_cols <- select(training_data, life_expectancy:co2_per_capita)\n",
    "\n",
    "# Count number of datapoints per column by development category\n",
    "development_groups_counts <- select(training_data, -country_code, -year) |>\n",
    "    group_by(development) |>\n",
    "    summarize_all(list(~ sum(!is.na(.)))) |>\n",
    "    add_row(mutate(as_tibble_row(colSums(!is.na(data_cols))), development = \"Combined\"), .before = 1)\n",
    "\n",
    "#Add table number and table name  \n",
    "comment(development_groups_counts) <- \"Table 4: Developed groups counts\""
   ]
  },
  {
   "cell_type": "code",
   "execution_count": null,
   "id": "79288a40-395b-4afb-a866-1d4c203ebce9",
   "metadata": {},
   "outputs": [],
   "source": [
    "# Take mean of each column by development category\n",
    "development_groups_means <- select(training_data, -country_code, -year) |>\n",
    "    group_by(development) |>\n",
    "    summarize_all(list(~ sum(., na.rm = TRUE)/sum(!is.na(.)))) |>\n",
    "    add_row(mutate(as_tibble_row(colMeans(data_cols, na.rm = TRUE)), development = \"Combined\"), .before = 1)\n",
    "\n",
    "#Add table number and table name \n",
    "comment(development_groups_means) <- \"Table 5: Developed groups means\""
   ]
  },
  {
   "cell_type": "code",
   "execution_count": null,
   "id": "7047ab1e-d392-4139-87dd-eeef4070d13a",
   "metadata": {},
   "outputs": [],
   "source": [
    "# Create plot of life expectancy vs. GNI\n",
    "options(repr.plot.width = 14, repr.plot.height = 9)\n",
    "gni_plot <- training_data |>\n",
    "    ggplot(aes(x = log_gni_per_capita, y = life_expectancy, colour = development)) +\n",
    "    geom_point(alpha = 0.5) +\n",
    "    labs(x = \"GNI (per capita)\", y = \"Life Expectancy\", colour = \"Development\") +\n",
    "    theme(text = element_text(size = 19)) +\n",
    "    geom_smooth(method = \"lm\", se = TRUE, formula = y ~ x, color = \"black\")"
   ]
  },
  {
   "cell_type": "code",
   "execution_count": null,
   "id": "49d25a52-d6e1-43d0-b460-2f6b0338945b",
   "metadata": {},
   "outputs": [],
   "source": [
    "# Create plot of life expectancy vs. poverty rate\n",
    "poverty_plot <- training_data |>\n",
    "    ggplot(aes(x = poverty_rate, y = life_expectancy, colour = development)) +\n",
    "    geom_point(alpha = 0.5) +\n",
    "    labs(x = \"Poverty Rate (% of population living at <$6.85/day, 2017 PPP)\", y = \"Life Expectancy\", colour = \"Development\") +\n",
    "    theme(text = element_text(size = 19)) +\n",
    "    geom_smooth(method = \"lm\", se = TRUE, formula = y ~ x, color = \"black\")"
   ]
  },
  {
   "cell_type": "code",
   "execution_count": null,
   "id": "9a1863fb-1af1-463d-bdad-c4c3afa02f8f",
   "metadata": {},
   "outputs": [],
   "source": [
    "# Create plot of life expectancy vs. mean schooling\n",
    "schooling_plot <- training_data |>\n",
    "    ggplot(aes(x = mean_schooling, y = life_expectancy, colour = development)) +\n",
    "    geom_point(alpha = 0.5) +\n",
    "    labs(x = \"Mean Schooling (years)\", y = \"Life Expectancy\", colour = \"Development\") +\n",
    "    theme(text = element_text(size = 19)) +\n",
    "    geom_smooth(method = \"lm\", se = TRUE, formula = y ~ x, color = \"black\")"
   ]
  },
  {
   "cell_type": "code",
   "execution_count": null,
   "id": "3b36e2e0-5b82-4337-9f85-b07389791d79",
   "metadata": {},
   "outputs": [],
   "source": [
    "# Create plot of life expectancy vs. CO2 emissions\n",
    "co2_plot <- training_data |>\n",
    "    ggplot(aes(x = log_co2_per_capita, y = life_expectancy, colour = development)) +\n",
    "    geom_point(alpha = 0.5) +\n",
    "    labs(x = \"CO2 Emissions (tonnes per capita)\", y = \"Life Expectancy\", colour = \"Development\") +\n",
    "    theme(text = element_text(size = 19)) +\n",
    "    geom_smooth(method = \"lm\", se = TRUE, formula = y ~ x, color = \"black\")"
   ]
  },
  {
   "cell_type": "markdown",
   "id": "cd8fb63d-f774-456e-aff6-337538a7aa06",
   "metadata": {
    "tags": []
   },
   "source": [
    "#### Number of data points per development rating for each variable:\n",
    "\n",
    "##### This information allows us to identify areas where we may not have as large a pool of data to draw conclusions from, and keeps us aware of this as a source of error throughout our work."
   ]
  },
  {
   "cell_type": "code",
   "execution_count": null,
   "id": "2f7915ec-2d2b-4a91-9f79-ea53626497e5",
   "metadata": {},
   "outputs": [],
   "source": [
    "comment(development_groups_counts)\n",
    "development_groups_counts"
   ]
  },
  {
   "cell_type": "markdown",
   "id": "33abbea3-4663-498c-ae4a-2696591af54b",
   "metadata": {},
   "source": [
    "#### Mean of the data points from each development rating for each variable:\n",
    "\n",
    "##### This information allows us to see, at-a-glance, overall trends of the change in each variable between development ratings and gives us an idea of the scale of the data we are going to be working with."
   ]
  },
  {
   "cell_type": "code",
   "execution_count": null,
   "id": "8ec93699-44e3-4b1c-b8fc-2b68b6a2b272",
   "metadata": {},
   "outputs": [],
   "source": [
    "comment(development_groups_means)\n",
    "development_groups_means"
   ]
  },
  {
   "cell_type": "markdown",
   "id": "3e2e351d-426d-41da-ba34-ff1d06a02d1e",
   "metadata": {},
   "source": [
    "#### Plot life expectancy against GNI per capita:"
   ]
  },
  {
   "cell_type": "code",
   "execution_count": null,
   "id": "5837ba9a-501c-4b24-b5fe-c8381ffeced4",
   "metadata": {},
   "outputs": [],
   "source": [
    "options(repr.plot.width = 14, repr.plot.height = 9)\n",
    "gni_plot + ggtitle(\"Figure 1 - Life Expectancy vs. GNI per capita\")"
   ]
  },
  {
   "cell_type": "markdown",
   "id": "f61943e9-86c4-414e-8346-2eb5131ce145",
   "metadata": {},
   "source": [
    "#### Relationship between life expectancy and GNI per capita:\n",
    "##### As seen in the scatterplot, more developed countries and less devloped countries are very distinct. For more developed countries, as the gross national income increases (x value increases), the life expectancy also increases (y value increases). In comparision, for less developed countries, most of the data are on the left side of the graph with relatively low gross national income; the gross national income of less developed countries does not increase much. In addition, more developed countries covers a greater range of and have higher gross national income than less developed countries. Therefore, we conclude that there is a weak positive relationship between gross national income and life expectancy; as gross national income increases, life expectanvy also increases. "
   ]
  },
  {
   "cell_type": "markdown",
   "id": "f8e6426a-14c5-4e69-9bb7-8b10ffa51d61",
   "metadata": {
    "tags": []
   },
   "source": [
    "#### Plot life expectancy against poverty rate:"
   ]
  },
  {
   "cell_type": "code",
   "execution_count": null,
   "id": "fc7b63f6-66a0-43c0-bc9d-2306f03294db",
   "metadata": {},
   "outputs": [],
   "source": [
    "options(repr.plot.width = 14, repr.plot.height = 9)\n",
    "poverty_plot + ggtitle(\"Figure 2 - Life Expectancy vs. Poverty Rate\")"
   ]
  },
  {
   "cell_type": "markdown",
   "id": "d90d2522-4d80-4509-a3f3-0731faed9408",
   "metadata": {},
   "source": [
    "#### Relationship between life expectancy and Poverty Rate:\n",
    "##### As seen in the scatterplot, more developed countries and less developed countries are very distinct; majority data for more developed countries are on the left side of the graph with low poverty rate and high life expectany, while the majority data for less developed countries are on the right side of the graph with high poverty rate and low life expectancy. Also, there is a linear negative relationship between poverty rate and life expectancy; as poverty rate increases, life expectancy decreases. Finally, poverty rate is a good predictor because it shows relatively linear relationships and a clear difference between more and less developed countries. "
   ]
  },
  {
   "cell_type": "markdown",
   "id": "2b62cd31-a022-4c7a-b7ff-09268aef5b7a",
   "metadata": {
    "tags": []
   },
   "source": [
    "#### Plot life expectancy against the mean years of schooling:"
   ]
  },
  {
   "cell_type": "code",
   "execution_count": null,
   "id": "b34adb55-29ee-4284-9de0-e7f09ac6939e",
   "metadata": {},
   "outputs": [],
   "source": [
    "options(repr.plot.width = 14, repr.plot.height = 9)\n",
    "schooling_plot + ggtitle(\"Figure 3 - Life Expectancy vs. Mean Years of Schooling\")"
   ]
  },
  {
   "cell_type": "markdown",
   "id": "8566760d-07b5-4eb5-972c-b910c432be55",
   "metadata": {},
   "source": [
    "#### Relationship between life expectancy and mean years of schooling:\n",
    "##### As seen in the graph, more developed countries and less developed countries are very different; more developed countries have higher mean years of schooling and higher life expectancy, while less developed countries have lower mean years of schooling and lower life expectancy. Also, there is a linear positve relationship between mean years of schooling and life expectancy; as mean years of schooling increases, life expectancy increases. Finally, mean years of schooling is a good predictor because it shows a linear positive relationship and a clear difference between higher and lower developed countries. "
   ]
  },
  {
   "cell_type": "markdown",
   "id": "022345a7-d683-4435-9c0c-6f6549b30d6b",
   "metadata": {},
   "source": [
    "#### Plot life expectancy against CO<sub>2</sub> emissions (tonnes per capita):"
   ]
  },
  {
   "cell_type": "code",
   "execution_count": null,
   "id": "230bef45-9db0-4040-93ad-ee7e7bd71b48",
   "metadata": {},
   "outputs": [],
   "source": [
    "options(repr.plot.width = 14, repr.plot.height = 9)\n",
    "co2_plot + ggtitle(\"Figure 4 - Life Expectancy vs. CO2 Emissions\")"
   ]
  },
  {
   "cell_type": "markdown",
   "id": "4227efd2-3e99-4452-bd75-e7a2d8648f4d",
   "metadata": {},
   "source": [
    "#### Relationship between life expectancy and CO2 Emissions: \n",
    "##### As seen in the graph, more developed countries and less developed countries are very different; more developed countries generally have higher CO2 emissions and higher life expectancy, while less developed countries have lower CO2 Emissions and lower life expectancy. Majority data for less developed countries are on the left of the graph and do not increase much, while more developed countries cover a greater range of CO2 emissions. Also, there is a weak positive relationship between CO2 emissions and life expectancy; as CO2 emissions increases, life expectancy shows a slight decrease for more developed countries. "
   ]
  },
  {
   "cell_type": "markdown",
   "id": "dd3ea0f7-6493-42bb-b2f3-e20f12af4b18",
   "metadata": {},
   "source": [
    "#### Data analysis\n",
    "##### Build a model"
   ]
  },
  {
   "cell_type": "code",
   "execution_count": null,
   "id": "e34e91bf-09a5-4efc-b48f-48cf8d2f38be",
   "metadata": {},
   "outputs": [],
   "source": [
    "#Set seed to make unbiased and reproducible analysis\n",
    "set.seed(141)\n",
    "\n",
    "lm_spec <- linear_reg() |>\n",
    "    set_engine(\"lm\") |>\n",
    "    set_mode(\"regression\")\n",
    "\n",
    "#Create recipe to build our model\n",
    "lm_recipe <- recipe(life_expectancy ~ log_gni_per_capita + poverty_rate + mean_schooling + log_co2_per_capita, data = training_data)\n",
    "\n",
    "#Fit linear models to training data\n",
    "lm_fit <- workflow() |>\n",
    "       add_recipe(lm_recipe) |>\n",
    "       add_model(lm_spec) |>\n",
    "       fit(data = training_data)\n",
    "\n",
    "lm_fit"
   ]
  },
  {
   "cell_type": "code",
   "execution_count": null,
   "id": "df786b77-fe8d-400e-9c9c-50b4d3a3a573",
   "metadata": {},
   "outputs": [],
   "source": [
    "#check p value \n",
    "print(\"Table 6: results of lm_fit\") \n",
    "tidy(lm_fit)\n"
   ]
  },
  {
   "cell_type": "markdown",
   "id": "0fd6ee29-f95e-4118-bf7a-6cdaeff57460",
   "metadata": {},
   "source": [
    "##### interpretation of coefficients and p.value "
   ]
  },
  {
   "cell_type": "markdown",
   "id": "780bd3d2-9ee8-4766-8d6e-107aa90c0a66",
   "metadata": {},
   "source": [
    "As seen in the lm_fit, the coefficients of log_gni_per_capita and mean_schooling are positive, and the coefficients of log_co2_per_capita and poverty_rate are negative. Thus, log_gni_per_capita and mean_schooling contribute positively to life expectancy at birth, and log_co2_per_capita and poverty_rate contribute negatively to life expectancy at bith. Even though the co2_per_capita has a positive relationship with life expectancy in figure 4, when considering all socioeconomic factors, co2 emissions have a negative impact on life expectancy. \n",
    "\n",
    "Moving on to the p values as shown in table 6, all p values are much lower than 0.05. Thus, we reject the null hypothesis that the slope of each socioeconomic factors is zero, which proves that there is a relationship between these socioeconomic factors and life expectancy at birth. "
   ]
  },
  {
   "cell_type": "markdown",
   "id": "7fce08fd-b2c1-42a5-b95b-c59566b97852",
   "metadata": {},
   "source": [
    "##### Perform the data analysis"
   ]
  },
  {
   "cell_type": "code",
   "execution_count": null,
   "id": "fbb85307-4922-42a6-b049-ad4628552b8a",
   "metadata": {},
   "outputs": [],
   "source": [
    "#remove rows that missing data for poverty rate column \n",
    "new_testing_data <- testing_data|>\n",
    "    filter(!is.na(poverty_rate))\n",
    "\n",
    "#Predicting life expectancy of data from the testing data set\n",
    "lm_results<- predict(lm_fit, new_testing_data)|>\n",
    "    bind_cols(new_testing_data)\n",
    "\n",
    "#Add table number and table name \n",
    "comment(lm_results) <- \"Table 7: testing data with predicted life expectancy\"\n",
    "\n",
    "comment(lm_results)\n",
    "lm_results"
   ]
  },
  {
   "cell_type": "markdown",
   "id": "e4079050-44d2-4300-87ea-e6a81fa45d41",
   "metadata": {},
   "source": [
    "##### Check RMSPE "
   ]
  },
  {
   "cell_type": "code",
   "execution_count": null,
   "id": "e5ecfeb8-7b1c-440b-8e9e-66e63337bad0",
   "metadata": {},
   "outputs": [],
   "source": [
    "#Get rmspe based on testing data \n",
    "rmspe_testing <- lm_results|>\n",
    "    metrics(truth=life_expectancy, estimate=.pred)|>\n",
    "    filter(.metric==\"rmse\")|>\n",
    "    select(.estimate)|>\n",
    "    pull()\n",
    "\n",
    "rmspe_testing"
   ]
  },
  {
   "cell_type": "markdown",
   "id": "11db092b-af96-4986-b933-d6e45affad71",
   "metadata": {},
   "source": [
    "## Discussion (Results) \n",
    "- We found that life expectancy has a postive relationship with gross national income, mean years of schooling, and CO2 emissions, but a negative relationship with poverty rate. Also, more developed countries have higher life expectancy than less developed countries. \n",
    "- The majority of relationships match our predictions; we expected that life expectancy has a positve relationship with gross national income and mean years of schooling, and a negative relationship with poverty rate and CO2 emissions. However, according to our graphs, CO2 emission doesn't match our expectations, which has a positive relationship with life expectancy. \n",
    "- The main impact of these findings is to identify socioeconomic factors that contribute to life expectancy at birth and determine how gross national income, mean years of schooling, CO2 emissions, and poverty affect life expectancy at birth.\n",
    "- The future questions is how humanitarian efforts may target specific factors such as education that would have the greatest impact on extending life expectancy in less developed countries. In addition, our findings may inform other avenues of research, such as how the model for the social cost of carbon could be improved by including life expectancy as a factor.\n"
   ]
  },
  {
   "cell_type": "markdown",
   "id": "7163471e-2820-43cc-b726-886bec9dd872",
   "metadata": {
    "tags": []
   },
   "source": [
    "## References\n",
    "\n",
    "Blackburn, K., & Cipriani, G.P. (2002). A model of longevity, fertility and growth. <i>Journal of Economic Dynamics and Control, 26,</i> 187-204.\n",
    "\n",
    "Hill, T. D., Jorgenson, A. K., Ore, P., Balistreri, K. S., & Clark, B. (2018). Air quality and life expectancy in the United States: An analysis of the moderating effect of income inequality. <i>SSM - population health, 7,</i> 100346. https://doi.org/10.1016/j.ssmph.2018.100346\n",
    "\n",
    "Human Development Reports Data Center. (n.d.). https://hdr.undp.org/data-center \n",
    "\n",
    "Poverty headcount ratio at $6.85 a day (2017 PPP) (% of population) | Data. (n.d.). https://data.worldbank.org/indicator/SI.POV.UMIC\n",
    "\n",
    "Roser, M., Ortiz-Ospina, E., & Ritchie, H. (2013). <i>Life Expectancy</i>. Retrieved from https://ourworldindata.org/life-expectancy\n",
    "\n",
    "World Health Organization. (2020). <i>GHE: Life expectancy and healthy life expectancy</i>. Retrieved from https://www.who.int/data/gho/data/themes/mortality-and-global-health-estimates/ghe-life-expectancy-and-healthy-life-expectancy"
   ]
  }
 ],
 "metadata": {
  "kernelspec": {
   "display_name": "R",
   "language": "R",
   "name": "ir"
  },
  "language_info": {
   "codemirror_mode": "r",
   "file_extension": ".r",
   "mimetype": "text/x-r-source",
   "name": "R",
   "pygments_lexer": "r",
   "version": "4.1.3"
  }
 },
 "nbformat": 4,
 "nbformat_minor": 5
}
